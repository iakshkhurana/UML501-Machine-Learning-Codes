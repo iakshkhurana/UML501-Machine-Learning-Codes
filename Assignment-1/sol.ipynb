{
 "cells": [
  {
   "cell_type": "markdown",
   "id": "c0d814f9",
   "metadata": {},
   "source": [
    "Question-1 : Basic Numpy"
   ]
  },
  {
   "cell_type": "code",
   "execution_count": 1,
   "id": "3f126b06",
   "metadata": {},
   "outputs": [],
   "source": [
    "import numpy as np"
   ]
  },
  {
   "cell_type": "code",
   "execution_count": 4,
   "id": "965084ee",
   "metadata": {},
   "outputs": [
    {
     "name": "stdout",
     "output_type": "stream",
     "text": [
      "[5 4 6 3 2 1]\n"
     ]
    }
   ],
   "source": [
    "arr = np.array([1,2,3,6,4,5])\n",
    "print(np.flip(arr))"
   ]
  },
  {
   "cell_type": "code",
   "execution_count": null,
   "id": "9103fd97",
   "metadata": {},
   "outputs": [
    {
     "name": "stdout",
     "output_type": "stream",
     "text": [
      "[1 2 3 2 4 5 1 2 3]\n"
     ]
    }
   ],
   "source": [
    "array1 = np.array([[1,2,3],[2,4,5],[1,2,3]])\n",
    "flattened_array = array1.flatten() # no np.flatten()\n",
    "print(flattened_array)"
   ]
  },
  {
   "cell_type": "code",
   "execution_count": 10,
   "id": "2f23c6e5",
   "metadata": {},
   "outputs": [
    {
     "name": "stdout",
     "output_type": "stream",
     "text": [
      "1\n",
      "1\n"
     ]
    }
   ],
   "source": [
    "x = np.array([1,2,3,4,5,1,2,1,1,1])\n",
    "y = np.array([1,1,1,2,3,4,2,4,3,3])\n",
    "counts_x = np.bincount(x)\n",
    "print(np.argmax(counts_x))\n",
    "counts_y = np.bincount(y)\n",
    "print(np.argmax(counts_y))"
   ]
  },
  {
   "cell_type": "code",
   "execution_count": 16,
   "id": "32c2ee83",
   "metadata": {},
   "outputs": [
    {
     "name": "stdout",
     "output_type": "stream",
     "text": [
      "Sum of all elements: 45\n",
      "Sum of row-wise elements: [[14]\n",
      " [16]\n",
      " [15]]\n",
      "Sum of column-wise elements : [[20  9 16]]\n"
     ]
    }
   ],
   "source": [
    "import numpy as np\n",
    "\n",
    "gfg = np.matrix('4 1 9; 12 3 1; 4 5 6')\n",
    "total_sum = np.sum(gfg)\n",
    "print(f\"Sum of all elements: {total_sum}\")\n",
    "row_sum = np.sum(gfg,axis=1)\n",
    "print(f\"Sum of row-wise elements: {row_sum}\")\n",
    "col_sum = np.sum(gfg,axis=0)\n",
    "print(f\"Sum of column-wise elements : {col_sum}\")\n"
   ]
  },
  {
   "cell_type": "code",
   "execution_count": 17,
   "id": "b6602d8e",
   "metadata": {},
   "outputs": [
    {
     "name": "stdout",
     "output_type": "stream",
     "text": [
      "176\n",
      "[98.16835147 28.097044   49.73460452]\n",
      "[[ 0.4574917   0.34637121 -0.15017693]\n",
      " [ 0.28447814 -0.72784061 -0.4852124 ]\n",
      " [ 0.84248058  0.59184038  0.8614034 ]]\n",
      "[[ 0.02404141 -0.00911212 -0.00444671]\n",
      " [-0.01667882  0.02966905  0.0024785 ]\n",
      " [ 0.00631287 -0.01603732  0.01217379]]\n",
      "137180.0000000001\n"
     ]
    }
   ],
   "source": [
    "# Need to look again\n",
    "\n",
    "n_array = np.array([[55, 25, 15], [30, 44, 2], [11, 45, 77]])\n",
    "trace = np.trace(n_array)\n",
    "print(trace)\n",
    "eigenvalues, _ = np.linalg.eig(n_array)\n",
    "print(eigenvalues)\n",
    "_, eigenvectors = np.linalg.eig(n_array)\n",
    "print(eigenvectors)\n",
    "inverse = np.linalg.inv(n_array)\n",
    "print(inverse)\n",
    "det = np.linalg.det(n_array)\n",
    "print(det)"
   ]
  },
  {
   "cell_type": "code",
   "execution_count": 23,
   "id": "30b01f64",
   "metadata": {},
   "outputs": [
    {
     "name": "stdout",
     "output_type": "stream",
     "text": [
      "cov_matrix : [[0.66666667 1.        ]\n",
      " [1.         1.66666667]] & matrix multiplication : [[16 19]\n",
      " [26 31]]\n"
     ]
    }
   ],
   "source": [
    "\n",
    "p = np.array([[1, 2],[2, 3]])\n",
    "q = np.array([[4, 5],[6, 7]])\n",
    "C = np.dot(p,q)\n",
    "p_flat = p.flatten()\n",
    "q_flat = q.flatten()\n",
    "data = np.vstack((p_flat, q_flat))\n",
    "cov_matrix = np.cov(data)\n",
    "print(f\"cov_matrix : {cov_matrix} & matrix multiplication : {C}\")\n"
   ]
  },
  {
   "cell_type": "code",
   "execution_count": 24,
   "id": "f1cb7756",
   "metadata": {},
   "outputs": [
    {
     "name": "stdout",
     "output_type": "stream",
     "text": [
      "cov_matrix : [[2.16666667 0.23333333]\n",
      " [0.23333333 5.36666667]] & matrix multiplication : [[16 19  5]\n",
      " [26 31  8]\n",
      " [46 55 14]]\n"
     ]
    }
   ],
   "source": [
    "\n",
    "p = np.array([[1,2],[2,3],[4,5]])\n",
    "q = np.array([[4,5,1],[6,7,2]])\n",
    "C = np.dot(p,q)\n",
    "p_flat = p.flatten()\n",
    "q_flat = q.flatten()\n",
    "data = np.vstack((p_flat, q_flat))\n",
    "cov_matrix = np.cov(data)\n",
    "print(f\"cov_matrix : {cov_matrix} & matrix multiplication : {C}\")\n"
   ]
  },
  {
   "cell_type": "code",
   "execution_count": 28,
   "id": "16279803",
   "metadata": {},
   "outputs": [
    {
     "name": "stdout",
     "output_type": "stream",
     "text": [
      "Inner Product : \n",
      "[[17 52]\n",
      " [13 62]]\n",
      "\n",
      "Outer Product : \n",
      "[[ 2 10  0 10 20  6]\n",
      " [ 3 15  0 15 30  9]\n",
      " [ 4 20  0 20 40 12]\n",
      " [ 3 15  0 15 30  9]\n",
      " [ 2 10  0 10 20  6]\n",
      " [ 9 45  0 45 90 27]]\n",
      "\n",
      "Cartesian Product : \n",
      "[[ 2  1]\n",
      " [ 2  5]\n",
      " [ 2  0]\n",
      " [ 2  5]\n",
      " [ 2 10]\n",
      " [ 2  3]\n",
      " [ 3  1]\n",
      " [ 3  5]\n",
      " [ 3  0]\n",
      " [ 3  5]\n",
      " [ 3 10]\n",
      " [ 3  3]\n",
      " [ 4  1]\n",
      " [ 4  5]\n",
      " [ 4  0]\n",
      " [ 4  5]\n",
      " [ 4 10]\n",
      " [ 4  3]\n",
      " [ 3  1]\n",
      " [ 3  5]\n",
      " [ 3  0]\n",
      " [ 3  5]\n",
      " [ 3 10]\n",
      " [ 3  3]\n",
      " [ 2  1]\n",
      " [ 2  5]\n",
      " [ 2  0]\n",
      " [ 2  5]\n",
      " [ 2 10]\n",
      " [ 2  3]\n",
      " [ 9  1]\n",
      " [ 9  5]\n",
      " [ 9  0]\n",
      " [ 9  5]\n",
      " [ 9 10]\n",
      " [ 9  3]]\n",
      "\n"
     ]
    }
   ],
   "source": [
    "import numpy as np\n",
    "\n",
    "x = np.array([[2,3,4],[3,2,9]])\n",
    "y = np.array([[1,5,0],[5,10,3]])\n",
    "\n",
    "# Inner product (matrix multiplication) - fix with transpose on y\n",
    "res1 = np.dot(x, y.T)\n",
    "\n",
    "# Outer product (correct)\n",
    "res2 = np.outer(x.flatten(), y.flatten())\n",
    "\n",
    "# Cartesian product of all elements - flatten both before repeat/tile\n",
    "res3 = np.transpose([\n",
    "    np.repeat(x.flatten(), len(y.flatten())),\n",
    "    np.tile(y.flatten(), len(x.flatten()))\n",
    "])\n",
    "\n",
    "print(f\"Inner Product : \\n{res1}\\n\")\n",
    "print(f\"Outer Product : \\n{res2}\\n\")\n",
    "print(f\"Cartesian Product : \\n{res3}\\n\")\n"
   ]
  },
  {
   "cell_type": "markdown",
   "id": "07b5d613",
   "metadata": {},
   "source": [
    "Question-2 : Numpy Mathematics & Statistics"
   ]
  },
  {
   "cell_type": "code",
   "execution_count": 29,
   "id": "ca27493c",
   "metadata": {},
   "outputs": [
    {
     "name": "stdout",
     "output_type": "stream",
     "text": [
      "Element-wise absolute value:\n",
      " [[1 2 3]\n",
      " [4 5 6]]\n",
      "Flattened percentiles (25,50,75): [-3.5, -0.5, 2.5]\n",
      "Column percentiles (25,50,75):\n",
      " [array([-2.75, -0.25, -3.75]), array([-1.5,  1.5, -1.5]), array([-0.25,  3.25,  0.75])]\n",
      "Row percentiles (25,50,75):\n",
      " [array([-0.5, -5. ]), array([ 1., -4.]), array([2. , 0.5])]\n",
      "Flattened Mean, Median, Std: -0.5 -0.5 3.8622100754188224\n",
      "Column-wise Mean, Median, Std:\n",
      " [-1.5  1.5 -1.5] [-1.5  1.5 -1.5] [2.5 3.5 4.5]\n",
      "Row-wise Mean, Median, Std:\n",
      " [ 0.66666667 -1.66666667] [ 1. -4.] [2.05480467 4.78423336]\n",
      "Floor:\n",
      " [-2. -2. -1.  0.  1.  1.  3.]\n",
      "Ceil:\n",
      " [-1. -1. -0.  1.  2.  2.  3.]\n",
      "Truncated:\n",
      " [-1. -1. -0.  0.  1.  1.  3.]\n",
      "Rounded:\n",
      " [-2. -2. -0.  0.  2.  2.  3.]\n"
     ]
    }
   ],
   "source": [
    "# Part (a)\n",
    "array = np.array([[1, -2, 3], [-4, 5, -6]])\n",
    "\n",
    "# (i)\n",
    "print(\"Element-wise absolute value:\\n\", np.abs(array))\n",
    "\n",
    "# (ii) Percentiles\n",
    "print(\"Flattened percentiles (25,50,75):\", [np.percentile(array.flatten(), p) for p in [25, 50, 75]])\n",
    "print(\"Column percentiles (25,50,75):\\n\", [np.percentile(array, p, axis=0) for p in [25, 50, 75]])\n",
    "print(\"Row percentiles (25,50,75):\\n\", [np.percentile(array, p, axis=1) for p in [25, 50, 75]])\n",
    "\n",
    "# (iii) Mean, Median, Std\n",
    "print(\"Flattened Mean, Median, Std:\", np.mean(array), np.median(array), np.std(array))\n",
    "print(\"Column-wise Mean, Median, Std:\\n\", np.mean(array, axis=0), np.median(array, axis=0), np.std(array, axis=0))\n",
    "print(\"Row-wise Mean, Median, Std:\\n\", np.mean(array, axis=1), np.median(array, axis=1), np.std(array, axis=1))\n",
    "\n",
    "# Part (b)\n",
    "a = np.array([-1.8, -1.6, -0.5, 0.5, 1.6, 1.8, 3.0])\n",
    "print(\"Floor:\\n\", np.floor(a))\n",
    "print(\"Ceil:\\n\", np.ceil(a))\n",
    "print(\"Truncated:\\n\", np.trunc(a))\n",
    "print(\"Rounded:\\n\", np.round(a))\n"
   ]
  },
  {
   "cell_type": "markdown",
   "id": "117463f3",
   "metadata": {},
   "source": [
    "Q-4. Searching and Sorting"
   ]
  },
  {
   "cell_type": "code",
   "execution_count": 30,
   "id": "d1a54e3f",
   "metadata": {},
   "outputs": [
    {
     "name": "stdout",
     "output_type": "stream",
     "text": [
      "Sorted array: [ 10  16  16  52  54  62 453]\n",
      "Indices of sorted array: [0 3 4 1 5 2 6]\n",
      "4 smallest elements: [16 10 16 52]\n",
      "5 largest elements: [ 16  52  62  54 453]\n",
      "Integer elements only: [1. 2. 3. 2.]\n",
      "Float elements only: [1.2 2.2]\n"
     ]
    }
   ],
   "source": [
    "array = np.array([10, 52, 62, 16, 16, 54, 453])\n",
    "\n",
    "sorted_array = np.sort(array)\n",
    "sorted_indices = np.argsort(array)\n",
    "smallest_4 = np.partition(array, 4)[:4]\n",
    "largest_5 = np.partition(array, -5)[-5:]\n",
    "\n",
    "print(\"Sorted array:\", sorted_array)\n",
    "print(\"Indices of sorted array:\", sorted_indices)\n",
    "print(\"4 smallest elements:\", smallest_4)\n",
    "print(\"5 largest elements:\", largest_5)\n",
    "\n",
    "array_b = np.array([1.0, 1.2, 2.2, 2.0, 3.0, 2.0])\n",
    "integers_only = array_b[array_b == array_b.astype(int)]\n",
    "floats_only = array_b[array_b != array_b.astype(int)]\n",
    "\n",
    "print(\"Integer elements only:\", integers_only)\n",
    "print(\"Float elements only:\", floats_only)\n"
   ]
  },
  {
   "cell_type": "markdown",
   "id": "5079c7dd",
   "metadata": {},
   "source": [
    "Question-4 (Copied, to be done again)"
   ]
  },
  {
   "cell_type": "code",
   "execution_count": 31,
   "id": "4bc53b21",
   "metadata": {},
   "outputs": [],
   "source": [
    "from PIL import Image\n",
    "import numpy as np\n",
    "\n",
    "def img_to_array(path):\n",
    "    \"\"\"\n",
    "    Reads an image from a specified path and saves its pixel data as a text file.\n",
    "    Handles both RGB and grayscale images.\n",
    "\n",
    "    Args:\n",
    "        path (str): The path to the image file.\n",
    "    \"\"\"\n",
    "    try:\n",
    "        img = Image.open(path)\n",
    "        img_array = np.array(img)\n",
    "\n",
    "        # Determine if it's RGB or Grayscale\n",
    "        if img.mode == 'L':  # Grayscale\n",
    "            print(f\"Image '{path}' is grayscale.\")\n",
    "            output_filename = \"grayscale_image_data.txt\"\n",
    "        elif img.mode == 'RGB':  # RGB\n",
    "            print(f\"Image '{path}' is RGB.\")\n",
    "            output_filename = \"rgb_image_data.txt\"\n",
    "        else:\n",
    "            print(f\"Unsupported image mode: {img.mode}\")\n",
    "            return\n",
    "\n",
    "        # Save the array to a text file\n",
    "        np.savetxt(output_filename, img_array.reshape(-1, img_array.shape[-1] if img_array.ndim == 3 else 1), fmt='%d')\n",
    "        print(f\"Image data saved to {output_filename}\")\n",
    "\n",
    "    except FileNotFoundError:\n",
    "        print(f\"Error: Image not found at {path}\")\n",
    "    except Exception as e:\n",
    "        print(f\"An error occurred: {e}\")\n",
    "\n",
    "# Example usage:\n",
    "# img_to_array(\"path/to/your/rgb_image.jpg\")\n",
    "# img_to_array(\"path/to/your/grayscale_image.png\")"
   ]
  }
 ],
 "metadata": {
  "kernelspec": {
   "display_name": "Python 3",
   "language": "python",
   "name": "python3"
  },
  "language_info": {
   "codemirror_mode": {
    "name": "ipython",
    "version": 3
   },
   "file_extension": ".py",
   "mimetype": "text/x-python",
   "name": "python",
   "nbconvert_exporter": "python",
   "pygments_lexer": "ipython3",
   "version": "3.11.5"
  }
 },
 "nbformat": 4,
 "nbformat_minor": 5
}
