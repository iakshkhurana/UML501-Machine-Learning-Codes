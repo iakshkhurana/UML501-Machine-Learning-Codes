{
  "nbformat": 4,
  "nbformat_minor": 0,
  "metadata": {
    "colab": {
      "provenance": [],
      "authorship_tag": "ABX9TyMNmDZZtKLvB84QabUQFsKD",
      "include_colab_link": true
    },
    "kernelspec": {
      "name": "python3",
      "display_name": "Python 3"
    },
    "language_info": {
      "name": "python"
    }
  },
  "cells": [
    {
      "cell_type": "markdown",
      "metadata": {
        "id": "view-in-github",
        "colab_type": "text"
      },
      "source": [
        "<a href=\"https://colab.research.google.com/github/iakshkhurana/UML501-Machine-Learning-Codes/blob/main/cnn-part-1.ipynb\" target=\"_parent\"><img src=\"https://colab.research.google.com/assets/colab-badge.svg\" alt=\"Open In Colab\"/></a>"
      ]
    },
    {
      "cell_type": "code",
      "execution_count": 5,
      "metadata": {
        "colab": {
          "base_uri": "https://localhost:8080/"
        },
        "id": "foHImOmaB8yA",
        "outputId": "a3205d34-4310-4ffb-d6c0-f3c38f2a3c81"
      },
      "outputs": [
        {
          "output_type": "stream",
          "name": "stdout",
          "text": [
            "\u001b[1m1/1\u001b[0m \u001b[32m━━━━━━━━━━━━━━━━━━━━\u001b[0m\u001b[37m\u001b[0m \u001b[1m0s\u001b[0m 59ms/step\n",
            "Output shape: (1, 4, 4, 1)\n",
            "Output matrix:\n",
            " [[0.9901118 1.1692977 1.3484837 1.5276697]\n",
            " [1.8860404 2.065227  2.2444134 2.4235988]\n",
            " [2.7819705 2.9611568 3.1403422 3.3195286]\n",
            " [3.6779003 3.8570852 4.03627   4.2154584]]\n"
          ]
        }
      ],
      "source": [
        "import numpy as np\n",
        "import tensorflow as tf\n",
        "from tensorflow import keras\n",
        "from tensorflow.keras import layers\n",
        "\n",
        "# 5x5 input (single channel)\n",
        "img = np.array([\n",
        "    [1, 2, 3, 4, 5],\n",
        "    [6, 7, 8, 9, 10],\n",
        "    [11, 12, 13, 14, 15],\n",
        "    [16, 17, 18, 19, 20],\n",
        "    [21, 22, 23, 24, 25]\n",
        "], dtype=np.float32).reshape(1, 5, 5, 1)   # ✅ reshape here\n",
        "\n",
        "# CNN with 2x2 filter\n",
        "model = keras.Sequential([\n",
        "    layers.Conv2D(1, (2, 2), input_shape=(5, 5, 1))\n",
        "])\n",
        "\n",
        "output = model.predict(img)\n",
        "print(\"Output shape:\", output.shape)\n",
        "print(\"Output matrix:\\n\", output[0, :, :, 0])\n"
      ]
    },
    {
      "cell_type": "code",
      "source": [
        "# Manual Filtering\n",
        "\n",
        "import numpy as np\n",
        "\n",
        "# 5x5 input\n",
        "img = np.array([\n",
        "    [1,  2,  3,  4,  5],\n",
        "    [6,  7,  8,  9, 10],\n",
        "    [11, 12, 13, 14, 15],\n",
        "    [16, 17, 18, 19, 20],\n",
        "    [21, 22, 23, 24, 25]\n",
        "], dtype=np.float32)\n",
        "\n",
        "# 2x2 filter (example: edge-like)\n",
        "filt = np.array([\n",
        "    [1, -1],\n",
        "    [-1, 1]\n",
        "], dtype=np.float32)\n",
        "\n",
        "# Output size: (5-2+1, 5-2+1) = (4,4)\n",
        "out = np.zeros((4,4), dtype=np.float32)\n",
        "\n",
        "# Convolution (valid)\n",
        "for i in range(4):       # rows\n",
        "    for j in range(4):   # cols\n",
        "        region = img[i:i+2, j:j+2]     # 2x2 patch\n",
        "        out[i,j] = np.sum(region * filt)\n",
        "\n",
        "print(\"Output matrix:\\n\", out)\n"
      ],
      "metadata": {
        "colab": {
          "base_uri": "https://localhost:8080/"
        },
        "id": "MC6A6essLCMA",
        "outputId": "417bddd5-d27d-41f7-be90-593a9483196d"
      },
      "execution_count": 6,
      "outputs": [
        {
          "output_type": "stream",
          "name": "stdout",
          "text": [
            "Output matrix:\n",
            " [[0. 0. 0. 0.]\n",
            " [0. 0. 0. 0.]\n",
            " [0. 0. 0. 0.]\n",
            " [0. 0. 0. 0.]]\n"
          ]
        }
      ]
    },
    {
      "cell_type": "code",
      "source": [
        "import numpy as np\n",
        "import tensorflow as tf\n",
        "from tensorflow import keras\n",
        "from tensorflow.keras import layers\n",
        "import matplotlib.pyplot as plt\n",
        "\n",
        "# 5x5 input (single channel)\n",
        "img = np.array([\n",
        "    [1, 2, 3, 4, 5],\n",
        "    [6, 7, 8, 9, 10],\n",
        "    [11, 12, 13, 14, 15],\n",
        "    [16, 17, 18, 19, 20],\n",
        "    [21, 22, 23, 24, 25]\n",
        "], dtype=np.float32).reshape(1, 5, 5, 1)\n",
        "\n",
        "# CNN with 2x2 filter\n",
        "model = keras.Sequential([\n",
        "    layers.Conv2D(1, (2, 2), input_shape=(5, 5, 1))\n",
        "])\n",
        "\n",
        "# --- Fix kernel for deterministic output ---\n",
        "kernel = np.ones((2, 2, 1, 1), dtype=np.float32)  # 2x2 sum filter\n",
        "bias   = np.array([0.0], dtype=np.float32)\n",
        "model.layers[0].set_weights([kernel, bias])\n",
        "\n",
        "# Forward pass\n",
        "output = model.predict(img)\n",
        "out_matrix = output[0, :, :, 0]\n",
        "\n",
        "# --- Visualization ---\n",
        "plt.figure(figsize=(10,4))\n",
        "\n",
        "# Input\n",
        "plt.subplot(1,2,1)\n",
        "plt.imshow(img[0,:,:,0], cmap=\"viridis\")\n",
        "plt.title(\"Input (5x5)\")\n",
        "plt.colorbar()\n",
        "\n",
        "# Output\n",
        "plt.subplot(1,2,2)\n",
        "plt.imshow(out_matrix, cmap=\"viridis\")\n",
        "plt.title(\"Output (4x4)\")\n",
        "plt.colorbar()\n",
        "\n",
        "plt.tight_layout()\n",
        "plt.show()\n"
      ],
      "metadata": {
        "colab": {
          "base_uri": "https://localhost:8080/",
          "height": 315
        },
        "id": "s1y_nmwZLrIC",
        "outputId": "e9552a26-c4eb-47e6-c78b-d1b00387a1ce"
      },
      "execution_count": 7,
      "outputs": [
        {
          "output_type": "stream",
          "name": "stdout",
          "text": [
            "\u001b[1m1/1\u001b[0m \u001b[32m━━━━━━━━━━━━━━━━━━━━\u001b[0m\u001b[37m\u001b[0m \u001b[1m0s\u001b[0m 133ms/step\n"
          ]
        },
        {
          "output_type": "display_data",
          "data": {
            "text/plain": [
              "<Figure size 1000x400 with 4 Axes>"
            ],
            "image/png": "[encoded data removed]"
          },
          "metadata": {}
        }
      ]
    },
    {
      "cell_type": "code",
      "source": [
        "# Pytorch\n",
        "\n",
        "import torch\n",
        "import torch.nn as nn\n",
        "\n",
        "# 5x5 input\n",
        "img = torch.tensor([\n",
        "    [1,  2,  3,  4,  5],\n",
        "    [6,  7,  8,  9, 10],\n",
        "    [11, 12, 13, 14, 15],\n",
        "    [16, 17, 18, 19, 20],\n",
        "    [21, 22, 23, 24, 25]\n",
        "], dtype=torch.float32).reshape(1, 1, 5, 5)  # (batch=1, channel=1, H=5, W=5)\n",
        "\n",
        "# Conv2d: 1 input channel -> 1 output channel, 2x2 kernel\n",
        "conv = nn.Conv2d(1, 1, kernel_size=2, stride=1, padding=0, bias=True)\n",
        "\n",
        "# Set weights manually: 2x2 kernel of ones\n",
        "with torch.no_grad():\n",
        "    conv.weight[:] = torch.tensor([[[[1, 1],\n",
        "                                     [1, 1]]]], dtype=torch.float32)\n",
        "    conv.bias[:] = torch.tensor([0.0])\n",
        "\n",
        "# Apply convolution\n",
        "output = conv(img)\n",
        "\n",
        "print(\"Input shape:\", img.shape)\n",
        "print(\"Output shape:\", output.shape)\n",
        "print(\"Output matrix:\\n\", output[0, 0].detach().numpy())"
      ],
      "metadata": {
        "colab": {
          "base_uri": "https://localhost:8080/"
        },
        "id": "v4i9q2CkL5rr",
        "outputId": "7837267a-6364-4ac2-b037-5b663a7a0eee"
      },
      "execution_count": 9,
      "outputs": [
        {
          "output_type": "stream",
          "name": "stdout",
          "text": [
            "Input shape: torch.Size([1, 1, 5, 5])\n",
            "Output shape: torch.Size([1, 1, 4, 4])\n",
            "Output matrix:\n",
            " [[16. 20. 24. 28.]\n",
            " [36. 40. 44. 48.]\n",
            " [56. 60. 64. 68.]\n",
            " [76. 80. 84. 88.]]\n"
          ]
        }
      ]
    }
  ]
}